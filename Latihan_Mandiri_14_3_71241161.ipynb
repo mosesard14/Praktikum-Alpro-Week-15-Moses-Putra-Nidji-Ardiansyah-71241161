{
  "nbformat": 4,
  "nbformat_minor": 0,
  "metadata": {
    "colab": {
      "provenance": [],
      "authorship_tag": "ABX9TyPkeFiPYH2x5tHDz5RRCRpG",
      "include_colab_link": true
    },
    "kernelspec": {
      "name": "python3",
      "display_name": "Python 3"
    },
    "language_info": {
      "name": "python"
    }
  },
  "cells": [
    {
      "cell_type": "markdown",
      "metadata": {
        "id": "view-in-github",
        "colab_type": "text"
      },
      "source": [
        "<a href=\"https://colab.research.google.com/github/mosesard14/Praktikum-Alpro-Week-15-Moses-Putra-Nidji-Ardiansyah-71241161/blob/main/Latihan_Mandiri_14_3_71241161.ipynb\" target=\"_parent\"><img src=\"https://colab.research.google.com/assets/colab-badge.svg\" alt=\"Open In Colab\"/></a>"
      ]
    },
    {
      "cell_type": "code",
      "execution_count": 3,
      "metadata": {
        "colab": {
          "base_uri": "https://localhost:8080/"
        },
        "id": "2C8esBCYWOyb",
        "outputId": "4c246baa-3dec-4dc5-ae4b-787e1c8fef98"
      },
      "outputs": [
        {
          "output_type": "stream",
          "name": "stdout",
          "text": [
            "25\n"
          ]
        }
      ],
      "source": [
        "def jumlah_ganjil(n):\n",
        "  if n <= 0:\n",
        "    return 0\n",
        "  elif n % 2 == 0:\n",
        "    return jumlah_ganjil(n - 1)\n",
        "  return n + jumlah_ganjil(n - 2)\n",
        "\n",
        "print(jumlah_ganjil(9))"
      ]
    }
  ]
}