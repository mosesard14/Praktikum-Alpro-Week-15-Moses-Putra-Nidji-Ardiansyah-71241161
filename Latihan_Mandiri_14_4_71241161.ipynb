{
  "nbformat": 4,
  "nbformat_minor": 0,
  "metadata": {
    "colab": {
      "provenance": [],
      "authorship_tag": "ABX9TyMQ5MA+eeUy5ummJH8f2/0l",
      "include_colab_link": true
    },
    "kernelspec": {
      "name": "python3",
      "display_name": "Python 3"
    },
    "language_info": {
      "name": "python"
    }
  },
  "cells": [
    {
      "cell_type": "markdown",
      "metadata": {
        "id": "view-in-github",
        "colab_type": "text"
      },
      "source": [
        "<a href=\"https://colab.research.google.com/github/mosesard14/Praktikum-Alpro-Week-15-Moses-Putra-Nidji-Ardiansyah-71241161/blob/main/Latihan_Mandiri_14_4_71241161.ipynb\" target=\"_parent\"><img src=\"https://colab.research.google.com/assets/colab-badge.svg\" alt=\"Open In Colab\"/></a>"
      ]
    },
    {
      "cell_type": "code",
      "execution_count": 2,
      "metadata": {
        "colab": {
          "base_uri": "https://localhost:8080/"
        },
        "id": "ZVwd9ugBe0Se",
        "outputId": "624738ff-1ffa-40cc-bee6-6d62da12d660"
      },
      "outputs": [
        {
          "output_type": "stream",
          "name": "stdout",
          "text": [
            "Masukkan angka: 345\n",
            "digit 345 adalah 12\n"
          ]
        }
      ],
      "source": [
        "angka = int(input('Masukkan angka: '))\n",
        "def jumlah_digit(n):\n",
        "    if n < 10:\n",
        "        return n\n",
        "    return n % 10 + jumlah_digit(n // 10)\n",
        "\n",
        "print(f'jumlah digit {angka} adalah {jumlah_digit(angka)}')"
      ]
    }
  ]
}