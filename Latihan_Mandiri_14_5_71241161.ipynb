{
  "nbformat": 4,
  "nbformat_minor": 0,
  "metadata": {
    "colab": {
      "provenance": [],
      "authorship_tag": "ABX9TyMgqlLUM3TyEoJYTs4XeIiL",
      "include_colab_link": true
    },
    "kernelspec": {
      "name": "python3",
      "display_name": "Python 3"
    },
    "language_info": {
      "name": "python"
    }
  },
  "cells": [
    {
      "cell_type": "markdown",
      "metadata": {
        "id": "view-in-github",
        "colab_type": "text"
      },
      "source": [
        "<a href=\"https://colab.research.google.com/github/mosesard14/Praktikum-Alpro-Week-15-Moses-Putra-Nidji-Ardiansyah-71241161/blob/main/Latihan_Mandiri_14_5_71241161.ipynb\" target=\"_parent\"><img src=\"https://colab.research.google.com/assets/colab-badge.svg\" alt=\"Open In Colab\"/></a>"
      ]
    },
    {
      "cell_type": "code",
      "execution_count": 1,
      "metadata": {
        "colab": {
          "base_uri": "https://localhost:8080/"
        },
        "id": "LTtUGQ28gRim",
        "outputId": "bf8bf449-d13f-4f02-c618-e10ee34ab142"
      },
      "outputs": [
        {
          "output_type": "stream",
          "name": "stdout",
          "text": [
            "10\n",
            "20\n",
            "1\n"
          ]
        }
      ],
      "source": [
        "def kombinasi(n, r):\n",
        "    if r == 0 or r == n:\n",
        "        return 1\n",
        "    if r > n:\n",
        "        return 0\n",
        "    return kombinasi(n - 1, r - 1) + kombinasi(n - 1, r)\n",
        "\n",
        "print(kombinasi(5, 2))\n",
        "print(kombinasi(6, 3))\n",
        "print(kombinasi(4, 4))"
      ]
    }
  ]
}