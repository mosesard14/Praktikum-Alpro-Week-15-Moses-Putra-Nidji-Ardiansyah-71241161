{
  "nbformat": 4,
  "nbformat_minor": 0,
  "metadata": {
    "colab": {
      "provenance": [],
      "authorship_tag": "ABX9TyMXSdASL5F55uVd+JzCnBxg",
      "include_colab_link": true
    },
    "kernelspec": {
      "name": "python3",
      "display_name": "Python 3"
    },
    "language_info": {
      "name": "python"
    }
  },
  "cells": [
    {
      "cell_type": "markdown",
      "metadata": {
        "id": "view-in-github",
        "colab_type": "text"
      },
      "source": [
        "<a href=\"https://colab.research.google.com/github/mosesard14/Praktikum-Alpro-Week-15-Moses-Putra-Nidji-Ardiansyah-71241161/blob/main/Latihan_Mandiri_14_2_71241161.ipynb\" target=\"_parent\"><img src=\"https://colab.research.google.com/assets/colab-badge.svg\" alt=\"Open In Colab\"/></a>"
      ]
    },
    {
      "cell_type": "code",
      "execution_count": 6,
      "metadata": {
        "colab": {
          "base_uri": "https://localhost:8080/"
        },
        "id": "SiL8wRNnSuZT",
        "outputId": "d8258473-b4d4-4059-fc83-a9d14b1111c9"
      },
      "outputs": [
        {
          "output_type": "stream",
          "name": "stdout",
          "text": [
            "Masukkan kalimat untuk di cek: kasur ini rusak\n",
            "kasur ini rusak adalah palindrom\n"
          ]
        }
      ],
      "source": [
        "kalimat = input('Masukkan kalimat untuk di cek: ')\n",
        "def palindrom(teks):\n",
        "  teks = teks.lower()\n",
        "  if len(teks) <= 1:\n",
        "    return True\n",
        "  elif teks[0] != teks[-1]:\n",
        "    return False\n",
        "  return palindrom(teks[1:-1])\n",
        "\n",
        "if palindrom(kalimat):\n",
        "  print(f'{kalimat} adalah palindrom')\n",
        "else:\n",
        "  print(f'{kalimat} bukan palindrom')"
      ]
    }
  ]
}