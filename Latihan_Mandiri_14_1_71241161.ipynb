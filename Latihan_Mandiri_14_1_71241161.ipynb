{
  "nbformat": 4,
  "nbformat_minor": 0,
  "metadata": {
    "colab": {
      "provenance": [],
      "authorship_tag": "ABX9TyN+hqSzP7TsjBodQ41NWUzf",
      "include_colab_link": true
    },
    "kernelspec": {
      "name": "python3",
      "display_name": "Python 3"
    },
    "language_info": {
      "name": "python"
    }
  },
  "cells": [
    {
      "cell_type": "markdown",
      "metadata": {
        "id": "view-in-github",
        "colab_type": "text"
      },
      "source": [
        "<a href=\"https://colab.research.google.com/github/mosesard14/Praktikum-Alpro-Week-15-Moses-Putra-Nidji-Ardiansyah-71241161/blob/main/Latihan_Mandiri_14_1_71241161.ipynb\" target=\"_parent\"><img src=\"https://colab.research.google.com/assets/colab-badge.svg\" alt=\"Open In Colab\"/></a>"
      ]
    },
    {
      "cell_type": "code",
      "execution_count": 6,
      "metadata": {
        "colab": {
          "base_uri": "https://localhost:8080/"
        },
        "id": "ffc_akNzMe7E",
        "outputId": "9ce1632b-3fc3-4b15-db4e-7f04fb13ee92"
      },
      "outputs": [
        {
          "output_type": "stream",
          "name": "stdout",
          "text": [
            "Masukkan bilangan: 7\n",
            "7 bilangan prima\n"
          ]
        }
      ],
      "source": [
        "bil = int(input('Masukkan bilangan: '))\n",
        "def cek_prima(n, pembagi=2):\n",
        "  if n < 2:\n",
        "    return False\n",
        "  elif pembagi * pembagi > n:\n",
        "    return True\n",
        "  elif n % pembagi == 0:\n",
        "    return False\n",
        "  return cek_prima(n, pembagi + 1)\n",
        "\n",
        "if cek_prima(bil):\n",
        "    print(f\"{bil} bilangan prima\")\n",
        "else:\n",
        "    print(f\"{bil} bukan bilangan prima\")"
      ]
    }
  ]
}